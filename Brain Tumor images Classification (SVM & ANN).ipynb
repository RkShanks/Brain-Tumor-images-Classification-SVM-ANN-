{
 "cells": [
  {
   "cell_type": "code",
   "execution_count": 46,
   "metadata": {},
   "outputs": [],
   "source": [
    "import numpy as np\n",
    "import pandas as pd\n",
    "import matplotlib.pyplot as plt\n",
    "import os\n",
    "import cv2\n",
    "from sklearn.preprocessing import StandardScaler\n",
    "from sklearn.svm import SVC\n",
    "from sklearn.metrics import confusion_matrix, accuracy_score\n",
    "from sklearn.metrics import plot_roc_curve\n",
    "from sklearn.metrics import roc_curve\n",
    "from sklearn.model_selection import train_test_split\n",
    "import tensorflow as tf\n",
    "import random"
   ]
  },
  {
   "cell_type": "code",
   "execution_count": 47,
   "metadata": {},
   "outputs": [],
   "source": [
    "classes = {\"no_tumor\":0,\"pituitary_tumor\":1}\n",
    "X = []\n",
    "Y = []\n",
    "for _class in classes:\n",
    "    path = 'Training/'+ _class\n",
    "    for i in os.listdir(path):\n",
    "        image = cv2.imread(path+'/'+i,0)\n",
    "        image = cv2.resize(image,(200,200))\n",
    "        X.append(image)\n",
    "        Y.append(classes[_class])"
   ]
  },
  {
   "cell_type": "code",
   "execution_count": 48,
   "metadata": {},
   "outputs": [],
   "source": [
    "X = np.array(X)\n",
    "Y = np.array(Y)\n",
    "X = X.reshape(len(X),-1)"
   ]
  },
  {
   "cell_type": "code",
   "execution_count": 49,
   "metadata": {},
   "outputs": [],
   "source": [
    "xtrain, xtest, ytrain, ytest = train_test_split(X, Y, random_state=0,\n",
    "                                               test_size=.20)"
   ]
  },
  {
   "cell_type": "code",
   "execution_count": 50,
   "metadata": {},
   "outputs": [],
   "source": [
    "sc = StandardScaler()\n",
    "xtrain = sc.fit_transform(xtrain)\n",
    "xtest = sc.transform(xtest)"
   ]
  },
  {
   "cell_type": "code",
   "execution_count": 51,
   "metadata": {},
   "outputs": [
    {
     "data": {
      "text/plain": [
       "SVC(coef0=20, degree=2, kernel='poly', random_state=0)"
      ]
     },
     "execution_count": 51,
     "metadata": {},
     "output_type": "execute_result"
    }
   ],
   "source": [
    "sv = SVC(kernel=\"poly\",degree=2,coef0=20,random_state=0)\n",
    "sv.fit(xtrain, ytrain)"
   ]
  },
  {
   "cell_type": "code",
   "execution_count": 52,
   "metadata": {},
   "outputs": [
    {
     "name": "stdout",
     "output_type": "stream",
     "text": [
      "Confusion matrix: \n",
      "[[ 59   4]\n",
      " [  0 182]]\n",
      "Accuracy: \n",
      "0.9836734693877551\n"
     ]
    }
   ],
   "source": [
    "ypred = sv.predict(xtest)\n",
    "cm = confusion_matrix(ytest, ypred)\n",
    "\n",
    "print(\"Confusion matrix: \")\n",
    "print(cm)\n",
    "\n",
    "print(\"Accuracy: \")\n",
    "print(accuracy_score(ytest, ypred))"
   ]
  },
  {
   "cell_type": "code",
   "execution_count": 53,
   "metadata": {},
   "outputs": [
    {
     "data": {
      "image/png": "[encoded data removed]",
      "text/plain": [
       "<Figure size 432x288 with 1 Axes>"
      ]
     },
     "metadata": {
      "needs_background": "light"
     },
     "output_type": "display_data"
    }
   ],
   "source": [
    "svc_disp = plot_roc_curve(sv, xtest, ytest)\n",
    "plt.show()"
   ]
  },
  {
   "cell_type": "code",
   "execution_count": 54,
   "metadata": {},
   "outputs": [],
   "source": [
    "seed_value= 0\n",
    "os.environ['PYTHONHASHSEED']=str(seed_value)\n",
    "random.seed(seed_value)\n",
    "np.random.seed(seed_value)\n",
    "tf.random.set_seed(seed_value)\n",
    "session_conf = tf.compat.v1.ConfigProto(intra_op_parallelism_threads=1, inter_op_parallelism_threads=1)\n",
    "sess = tf.compat.v1.Session(graph=tf.compat.v1.get_default_graph(), config=session_conf)\n",
    "tf.compat.v1.keras.backend.set_session(sess)"
   ]
  },
  {
   "cell_type": "code",
   "execution_count": 55,
   "metadata": {
    "scrolled": true
   },
   "outputs": [
    {
     "name": "stdout",
     "output_type": "stream",
     "text": [
      "Epoch 1/100\n",
      "17/17 [==============================] - 1s 31ms/step - loss: 0.4420 - accuracy: 0.8659 - val_loss: 0.3871 - val_accuracy: 0.9061\n",
      "Epoch 2/100\n",
      "17/17 [==============================] - 0s 18ms/step - loss: 0.3724 - accuracy: 0.9191 - val_loss: 0.3581 - val_accuracy: 0.9020\n",
      "Epoch 3/100\n",
      "17/17 [==============================] - 0s 17ms/step - loss: 0.3459 - accuracy: 0.9212 - val_loss: 0.3302 - val_accuracy: 0.9143\n",
      "Epoch 4/100\n",
      "17/17 [==============================] - 0s 17ms/step - loss: 0.3129 - accuracy: 0.9243 - val_loss: 0.3059 - val_accuracy: 0.9184\n",
      "Epoch 5/100\n",
      "17/17 [==============================] - 0s 16ms/step - loss: 0.2838 - accuracy: 0.9304 - val_loss: 0.2817 - val_accuracy: 0.9265\n",
      "Epoch 6/100\n",
      "17/17 [==============================] - 0s 17ms/step - loss: 0.2606 - accuracy: 0.9324 - val_loss: 0.2692 - val_accuracy: 0.9184\n",
      "Epoch 7/100\n",
      "17/17 [==============================] - 0s 16ms/step - loss: 0.2379 - accuracy: 0.9365 - val_loss: 0.2362 - val_accuracy: 0.9306\n",
      "Epoch 8/100\n",
      "17/17 [==============================] - 0s 16ms/step - loss: 0.2117 - accuracy: 0.9488 - val_loss: 0.1897 - val_accuracy: 0.9551\n",
      "Epoch 9/100\n",
      "17/17 [==============================] - 0s 16ms/step - loss: 0.1924 - accuracy: 0.9662 - val_loss: 0.1864 - val_accuracy: 0.9551\n",
      "Epoch 10/100\n",
      "17/17 [==============================] - 0s 16ms/step - loss: 0.1720 - accuracy: 0.9632 - val_loss: 0.1817 - val_accuracy: 0.9469\n",
      "Epoch 11/100\n",
      "17/17 [==============================] - 0s 16ms/step - loss: 0.1540 - accuracy: 0.9703 - val_loss: 0.1800 - val_accuracy: 0.9510\n",
      "Epoch 12/100\n",
      "17/17 [==============================] - 0s 17ms/step - loss: 0.1421 - accuracy: 0.9724 - val_loss: 0.1441 - val_accuracy: 0.9714\n",
      "Epoch 13/100\n",
      "17/17 [==============================] - 0s 17ms/step - loss: 0.1245 - accuracy: 0.9775 - val_loss: 0.1358 - val_accuracy: 0.9673\n",
      "Epoch 14/100\n",
      "17/17 [==============================] - 0s 16ms/step - loss: 0.1213 - accuracy: 0.9744 - val_loss: 0.1337 - val_accuracy: 0.9592\n",
      "Epoch 15/100\n",
      "17/17 [==============================] - 0s 16ms/step - loss: 0.1053 - accuracy: 0.9785 - val_loss: 0.1358 - val_accuracy: 0.9633\n",
      "Epoch 16/100\n",
      "17/17 [==============================] - 0s 17ms/step - loss: 0.0924 - accuracy: 0.9887 - val_loss: 0.1262 - val_accuracy: 0.9714\n",
      "Epoch 17/100\n",
      "17/17 [==============================] - 0s 18ms/step - loss: 0.0956 - accuracy: 0.9857 - val_loss: 0.1057 - val_accuracy: 0.9714\n",
      "Epoch 18/100\n",
      "17/17 [==============================] - 0s 17ms/step - loss: 0.0775 - accuracy: 0.9918 - val_loss: 0.0914 - val_accuracy: 0.9837\n",
      "Epoch 19/100\n",
      "17/17 [==============================] - 0s 16ms/step - loss: 0.0751 - accuracy: 0.9918 - val_loss: 0.0919 - val_accuracy: 0.9878\n",
      "Epoch 20/100\n",
      "17/17 [==============================] - 0s 18ms/step - loss: 0.0683 - accuracy: 0.9908 - val_loss: 0.0759 - val_accuracy: 0.9918\n",
      "Epoch 21/100\n",
      "17/17 [==============================] - 0s 18ms/step - loss: 0.0648 - accuracy: 0.9928 - val_loss: 0.0750 - val_accuracy: 0.9878\n",
      "Epoch 22/100\n",
      "17/17 [==============================] - 0s 16ms/step - loss: 0.0578 - accuracy: 0.9928 - val_loss: 0.0687 - val_accuracy: 0.9878\n",
      "Epoch 23/100\n",
      "17/17 [==============================] - 0s 16ms/step - loss: 0.0567 - accuracy: 0.9949 - val_loss: 0.0647 - val_accuracy: 0.9959\n",
      "Epoch 24/100\n",
      "17/17 [==============================] - 0s 16ms/step - loss: 0.0520 - accuracy: 0.9949 - val_loss: 0.0685 - val_accuracy: 0.9918\n",
      "Epoch 25/100\n",
      "17/17 [==============================] - 0s 16ms/step - loss: 0.0489 - accuracy: 0.9918 - val_loss: 0.0521 - val_accuracy: 0.9918\n",
      "Epoch 26/100\n",
      "17/17 [==============================] - 0s 15ms/step - loss: 0.0463 - accuracy: 0.9928 - val_loss: 0.0592 - val_accuracy: 0.9918\n",
      "Epoch 27/100\n",
      "17/17 [==============================] - 0s 15ms/step - loss: 0.0452 - accuracy: 0.9928 - val_loss: 0.0604 - val_accuracy: 0.9878\n",
      "Epoch 28/100\n",
      "17/17 [==============================] - 0s 16ms/step - loss: 0.0517 - accuracy: 0.9949 - val_loss: 0.0611 - val_accuracy: 0.9837\n",
      "Epoch 29/100\n",
      "17/17 [==============================] - 0s 16ms/step - loss: 0.0484 - accuracy: 0.9949 - val_loss: 0.0581 - val_accuracy: 0.9837\n",
      "Epoch 30/100\n",
      "17/17 [==============================] - 0s 16ms/step - loss: 0.0433 - accuracy: 0.9928 - val_loss: 0.0467 - val_accuracy: 0.9878\n",
      "Epoch 31/100\n",
      "17/17 [==============================] - 0s 16ms/step - loss: 0.0628 - accuracy: 0.9939 - val_loss: 0.0817 - val_accuracy: 0.9796\n",
      "Epoch 32/100\n",
      "17/17 [==============================] - 0s 16ms/step - loss: 0.0615 - accuracy: 0.9939 - val_loss: 0.0811 - val_accuracy: 0.9796\n",
      "Epoch 33/100\n",
      "17/17 [==============================] - 0s 15ms/step - loss: 0.0559 - accuracy: 0.9939 - val_loss: 0.0738 - val_accuracy: 0.9878\n",
      "Epoch 34/100\n",
      "17/17 [==============================] - 0s 16ms/step - loss: 0.0541 - accuracy: 0.9918 - val_loss: 0.0741 - val_accuracy: 0.9878\n",
      "Epoch 35/100\n",
      "17/17 [==============================] - 0s 16ms/step - loss: 0.0540 - accuracy: 0.9949 - val_loss: 0.0625 - val_accuracy: 0.9878\n",
      "Epoch 36/100\n",
      "17/17 [==============================] - 0s 16ms/step - loss: 0.0446 - accuracy: 0.9949 - val_loss: 0.0678 - val_accuracy: 0.9878\n",
      "Epoch 37/100\n",
      "17/17 [==============================] - 0s 16ms/step - loss: 0.0398 - accuracy: 0.9959 - val_loss: 0.0668 - val_accuracy: 0.9878\n",
      "Epoch 38/100\n",
      "17/17 [==============================] - 0s 16ms/step - loss: 0.0380 - accuracy: 0.9959 - val_loss: 0.0664 - val_accuracy: 0.9878\n",
      "Epoch 39/100\n",
      "17/17 [==============================] - 0s 15ms/step - loss: 0.0366 - accuracy: 0.9949 - val_loss: 0.0678 - val_accuracy: 0.9878\n",
      "Epoch 40/100\n",
      "17/17 [==============================] - 0s 16ms/step - loss: 0.0350 - accuracy: 0.9949 - val_loss: 0.0649 - val_accuracy: 0.9878\n",
      "Epoch 41/100\n",
      "17/17 [==============================] - 0s 16ms/step - loss: 0.0323 - accuracy: 0.9949 - val_loss: 0.0635 - val_accuracy: 0.9878\n",
      "Epoch 42/100\n",
      "17/17 [==============================] - 0s 16ms/step - loss: 0.0301 - accuracy: 0.9949 - val_loss: 0.0624 - val_accuracy: 0.9837\n",
      "Epoch 43/100\n",
      "17/17 [==============================] - 0s 16ms/step - loss: 0.0278 - accuracy: 0.9959 - val_loss: 0.0614 - val_accuracy: 0.9837\n",
      "Epoch 44/100\n",
      "17/17 [==============================] - 0s 16ms/step - loss: 0.0264 - accuracy: 0.9959 - val_loss: 0.0601 - val_accuracy: 0.9837\n",
      "Epoch 45/100\n",
      "17/17 [==============================] - 0s 16ms/step - loss: 0.0251 - accuracy: 0.9959 - val_loss: 0.0595 - val_accuracy: 0.9837\n",
      "Epoch 46/100\n",
      "17/17 [==============================] - 0s 16ms/step - loss: 0.0244 - accuracy: 0.9959 - val_loss: 0.0593 - val_accuracy: 0.9837\n",
      "Epoch 47/100\n",
      "17/17 [==============================] - 0s 16ms/step - loss: 0.0237 - accuracy: 0.9959 - val_loss: 0.0592 - val_accuracy: 0.9837\n",
      "Epoch 48/100\n",
      "17/17 [==============================] - 0s 16ms/step - loss: 0.0231 - accuracy: 0.9959 - val_loss: 0.0590 - val_accuracy: 0.9837\n",
      "Epoch 49/100\n",
      "17/17 [==============================] - 0s 16ms/step - loss: 0.0226 - accuracy: 0.9959 - val_loss: 0.0587 - val_accuracy: 0.9837\n",
      "Epoch 50/100\n",
      "17/17 [==============================] - 0s 16ms/step - loss: 0.0221 - accuracy: 0.9959 - val_loss: 0.0588 - val_accuracy: 0.9837\n",
      "Epoch 51/100\n",
      "17/17 [==============================] - 0s 16ms/step - loss: 0.0216 - accuracy: 0.9959 - val_loss: 0.0587 - val_accuracy: 0.9837\n",
      "Epoch 52/100\n",
      "17/17 [==============================] - 0s 16ms/step - loss: 0.0213 - accuracy: 0.9959 - val_loss: 0.0587 - val_accuracy: 0.9837\n",
      "Epoch 53/100\n",
      "17/17 [==============================] - 0s 17ms/step - loss: 0.0209 - accuracy: 0.9959 - val_loss: 0.0587 - val_accuracy: 0.9837\n",
      "Epoch 54/100\n",
      "17/17 [==============================] - 0s 16ms/step - loss: 0.0205 - accuracy: 0.9959 - val_loss: 0.0587 - val_accuracy: 0.9837\n",
      "Epoch 55/100\n",
      "17/17 [==============================] - 0s 16ms/step - loss: 0.0209 - accuracy: 0.9959 - val_loss: 0.0590 - val_accuracy: 0.9837\n",
      "Epoch 56/100\n",
      "17/17 [==============================] - 0s 17ms/step - loss: 0.0228 - accuracy: 0.9959 - val_loss: 0.0709 - val_accuracy: 0.9837\n",
      "Epoch 57/100\n",
      "17/17 [==============================] - 0s 16ms/step - loss: 0.0232 - accuracy: 0.9959 - val_loss: 0.0712 - val_accuracy: 0.9837\n",
      "Epoch 58/100\n"
     ]
    },
    {
     "name": "stdout",
     "output_type": "stream",
     "text": [
      "17/17 [==============================] - 0s 17ms/step - loss: 0.0225 - accuracy: 0.9959 - val_loss: 0.0714 - val_accuracy: 0.9837\n",
      "Epoch 59/100\n",
      "17/17 [==============================] - 0s 16ms/step - loss: 0.0221 - accuracy: 0.9959 - val_loss: 0.0717 - val_accuracy: 0.9837\n",
      "Epoch 60/100\n",
      "17/17 [==============================] - 0s 16ms/step - loss: 0.0217 - accuracy: 0.9959 - val_loss: 0.0719 - val_accuracy: 0.9837\n",
      "Epoch 61/100\n",
      "17/17 [==============================] - 0s 16ms/step - loss: 0.0213 - accuracy: 0.9959 - val_loss: 0.0720 - val_accuracy: 0.9837\n",
      "Epoch 62/100\n",
      "17/17 [==============================] - 0s 16ms/step - loss: 0.0210 - accuracy: 0.9959 - val_loss: 0.0723 - val_accuracy: 0.9837\n",
      "Epoch 63/100\n",
      "17/17 [==============================] - 0s 16ms/step - loss: 0.0207 - accuracy: 0.9959 - val_loss: 0.0721 - val_accuracy: 0.9837\n",
      "Epoch 64/100\n",
      "17/17 [==============================] - 0s 16ms/step - loss: 0.0205 - accuracy: 0.9959 - val_loss: 0.0723 - val_accuracy: 0.9837\n",
      "Epoch 65/100\n",
      "17/17 [==============================] - 0s 16ms/step - loss: 0.0202 - accuracy: 0.9959 - val_loss: 0.0726 - val_accuracy: 0.9837\n",
      "Epoch 66/100\n",
      "17/17 [==============================] - 0s 17ms/step - loss: 0.0200 - accuracy: 0.9959 - val_loss: 0.0728 - val_accuracy: 0.9837\n",
      "Epoch 67/100\n",
      "17/17 [==============================] - 0s 16ms/step - loss: 0.0198 - accuracy: 0.9959 - val_loss: 0.0730 - val_accuracy: 0.9837\n",
      "Epoch 68/100\n",
      "17/17 [==============================] - 0s 16ms/step - loss: 0.0196 - accuracy: 0.9959 - val_loss: 0.0733 - val_accuracy: 0.9837\n",
      "Epoch 69/100\n",
      "17/17 [==============================] - 0s 16ms/step - loss: 0.0195 - accuracy: 0.9959 - val_loss: 0.0737 - val_accuracy: 0.9837\n",
      "Epoch 70/100\n",
      "17/17 [==============================] - 0s 16ms/step - loss: 0.0193 - accuracy: 0.9959 - val_loss: 0.0735 - val_accuracy: 0.9837\n",
      "Epoch 71/100\n",
      "17/17 [==============================] - 0s 16ms/step - loss: 0.0192 - accuracy: 0.9959 - val_loss: 0.0739 - val_accuracy: 0.9837\n",
      "Epoch 72/100\n",
      "17/17 [==============================] - 0s 16ms/step - loss: 0.0190 - accuracy: 0.9959 - val_loss: 0.0740 - val_accuracy: 0.9837\n",
      "Epoch 73/100\n",
      "17/17 [==============================] - 0s 16ms/step - loss: 0.0189 - accuracy: 0.9959 - val_loss: 0.0743 - val_accuracy: 0.9837\n",
      "Epoch 74/100\n",
      "17/17 [==============================] - 0s 16ms/step - loss: 0.0188 - accuracy: 0.9959 - val_loss: 0.0741 - val_accuracy: 0.9837\n",
      "Epoch 75/100\n",
      "17/17 [==============================] - 0s 16ms/step - loss: 0.0187 - accuracy: 0.9959 - val_loss: 0.0746 - val_accuracy: 0.9837\n",
      "Epoch 76/100\n",
      "17/17 [==============================] - 0s 16ms/step - loss: 0.0186 - accuracy: 0.9959 - val_loss: 0.0746 - val_accuracy: 0.9837\n",
      "Epoch 77/100\n",
      "17/17 [==============================] - 0s 15ms/step - loss: 0.0185 - accuracy: 0.9959 - val_loss: 0.0747 - val_accuracy: 0.9837\n",
      "Epoch 78/100\n",
      "17/17 [==============================] - 0s 16ms/step - loss: 0.0184 - accuracy: 0.9959 - val_loss: 0.0750 - val_accuracy: 0.9837\n",
      "Epoch 79/100\n",
      "17/17 [==============================] - 0s 16ms/step - loss: 0.0183 - accuracy: 0.9959 - val_loss: 0.0751 - val_accuracy: 0.9837\n",
      "Epoch 80/100\n",
      "17/17 [==============================] - 0s 16ms/step - loss: 0.0182 - accuracy: 0.9959 - val_loss: 0.0751 - val_accuracy: 0.9837\n",
      "Epoch 81/100\n",
      "17/17 [==============================] - 0s 16ms/step - loss: 0.0181 - accuracy: 0.9959 - val_loss: 0.0754 - val_accuracy: 0.9837\n",
      "Epoch 82/100\n",
      "17/17 [==============================] - 0s 16ms/step - loss: 0.0181 - accuracy: 0.9959 - val_loss: 0.0755 - val_accuracy: 0.9837\n",
      "Epoch 83/100\n",
      "17/17 [==============================] - 0s 16ms/step - loss: 0.0180 - accuracy: 0.9959 - val_loss: 0.0759 - val_accuracy: 0.9837\n",
      "Epoch 84/100\n",
      "17/17 [==============================] - 0s 16ms/step - loss: 0.0179 - accuracy: 0.9959 - val_loss: 0.0758 - val_accuracy: 0.9837\n",
      "Epoch 85/100\n",
      "17/17 [==============================] - 0s 16ms/step - loss: 0.0178 - accuracy: 0.9959 - val_loss: 0.0759 - val_accuracy: 0.9837\n",
      "Epoch 86/100\n",
      "17/17 [==============================] - 0s 16ms/step - loss: 0.0178 - accuracy: 0.9959 - val_loss: 0.0763 - val_accuracy: 0.9837\n",
      "Epoch 87/100\n",
      "17/17 [==============================] - 0s 16ms/step - loss: 0.0177 - accuracy: 0.9959 - val_loss: 0.0763 - val_accuracy: 0.9837\n",
      "Epoch 88/100\n",
      "17/17 [==============================] - 0s 16ms/step - loss: 0.0177 - accuracy: 0.9959 - val_loss: 0.0766 - val_accuracy: 0.9837\n",
      "Epoch 89/100\n",
      "17/17 [==============================] - 0s 16ms/step - loss: 0.0176 - accuracy: 0.9959 - val_loss: 0.0766 - val_accuracy: 0.9837\n",
      "Epoch 90/100\n",
      "17/17 [==============================] - 0s 16ms/step - loss: 0.0176 - accuracy: 0.9959 - val_loss: 0.0765 - val_accuracy: 0.9837\n",
      "Epoch 91/100\n",
      "17/17 [==============================] - 0s 16ms/step - loss: 0.0175 - accuracy: 0.9959 - val_loss: 0.0767 - val_accuracy: 0.9837\n",
      "Epoch 92/100\n",
      "17/17 [==============================] - 0s 16ms/step - loss: 0.0174 - accuracy: 0.9959 - val_loss: 0.0769 - val_accuracy: 0.9837\n",
      "Epoch 93/100\n",
      "17/17 [==============================] - 0s 16ms/step - loss: 0.0174 - accuracy: 0.9959 - val_loss: 0.0763 - val_accuracy: 0.9837\n",
      "Epoch 94/100\n",
      "17/17 [==============================] - 0s 16ms/step - loss: 0.0174 - accuracy: 0.9959 - val_loss: 0.0764 - val_accuracy: 0.9837\n",
      "Epoch 95/100\n",
      "17/17 [==============================] - 0s 16ms/step - loss: 0.0173 - accuracy: 0.9959 - val_loss: 0.0767 - val_accuracy: 0.9837\n",
      "Epoch 96/100\n",
      "17/17 [==============================] - 0s 16ms/step - loss: 0.0172 - accuracy: 0.9959 - val_loss: 0.0769 - val_accuracy: 0.9837\n",
      "Epoch 97/100\n",
      "17/17 [==============================] - 0s 16ms/step - loss: 0.0172 - accuracy: 0.9959 - val_loss: 0.0771 - val_accuracy: 0.9837\n",
      "Epoch 98/100\n",
      "17/17 [==============================] - 0s 16ms/step - loss: 0.0172 - accuracy: 0.9959 - val_loss: 0.0774 - val_accuracy: 0.9837\n",
      "Epoch 99/100\n",
      "17/17 [==============================] - 0s 16ms/step - loss: 0.0171 - accuracy: 0.9959 - val_loss: 0.0775 - val_accuracy: 0.9837\n",
      "Epoch 100/100\n",
      "17/17 [==============================] - 0s 15ms/step - loss: 0.0171 - accuracy: 0.9959 - val_loss: 0.0778 - val_accuracy: 0.9837\n"
     ]
    }
   ],
   "source": [
    "ann = tf.keras.models.Sequential()\n",
    "ann.add(tf.keras.layers.Dense(units=6, activation='sigmoid'))\n",
    "ann.add(tf.keras.layers.Dense(units=6, activation='relu'))\n",
    "ann.add(tf.keras.layers.Dense(units=1, activation='sigmoid'))\n",
    "ann.compile(optimizer = 'adam', loss = 'binary_crossentropy', metrics = ['accuracy'])\n",
    "history = ann.fit(xtrain, ytrain, validation_data = (xtest,ytest), epochs = 100, batch_size = 60)"
   ]
  },
  {
   "cell_type": "code",
   "execution_count": 57,
   "metadata": {},
   "outputs": [
    {
     "name": "stdout",
     "output_type": "stream",
     "text": [
      "[[ 60   3]\n",
      " [  1 181]]\n"
     ]
    },
    {
     "data": {
      "text/plain": [
       "0.9836734693877551"
      ]
     },
     "execution_count": 57,
     "metadata": {},
     "output_type": "execute_result"
    }
   ],
   "source": [
    "y_pred = ann.predict(xtest)\n",
    "y_pred = (y_pred > 0.5)\n",
    "cm = confusion_matrix(ytest, y_pred)\n",
    "print(cm)\n",
    "accuracy_score(ytest, y_pred)"
   ]
  },
  {
   "cell_type": "code",
   "execution_count": 58,
   "metadata": {},
   "outputs": [
    {
     "data": {
      "text/plain": [
       "dict_keys(['loss', 'accuracy', 'val_loss', 'val_accuracy'])"
      ]
     },
     "execution_count": 58,
     "metadata": {},
     "output_type": "execute_result"
    }
   ],
   "source": [
    "history.history.keys()"
   ]
  },
  {
   "cell_type": "code",
   "execution_count": 59,
   "metadata": {
    "scrolled": true
   },
   "outputs": [
    {
     "data": {
      "image/png": "[encoded data removed]",
      "text/plain": [
       "<Figure size 432x288 with 1 Axes>"
      ]
     },
     "metadata": {
      "needs_background": "light"
     },
     "output_type": "display_data"
    }
   ],
   "source": [
    "plt.plot(history.history['loss'], label = 'train loss')\n",
    "plt.plot(history.history['val_loss'], label = 'validation loss')\n",
    "plt.title('Loss curve')\n",
    "plt.ylabel('loss')\n",
    "plt.xlabel('epochs')\n",
    "plt.legend()\n",
    "plt.show()"
   ]
  },
  {
   "cell_type": "code",
   "execution_count": 60,
   "metadata": {},
   "outputs": [
    {
     "data": {
      "image/png": "[encoded data removed]",
      "text/plain": [
       "<Figure size 432x288 with 1 Axes>"
      ]
     },
     "metadata": {
      "needs_background": "light"
     },
     "output_type": "display_data"
    }
   ],
   "source": [
    "plt.plot(history.history['accuracy'] , label = 'train accuracy')\n",
    "plt.plot(history.history['val_accuracy'] , label = 'validation accuracy')\n",
    "plt.title('accuracy curve')\n",
    "plt.ylabel('accuracy')\n",
    "plt.xlabel('epochs')\n",
    "plt.legend()\n",
    "plt.show()"
   ]
  },
  {
   "cell_type": "code",
   "execution_count": 61,
   "metadata": {},
   "outputs": [
    {
     "data": {
      "image/png": "[encoded data removed]",
      "text/plain": [
       "<Figure size 432x288 with 1 Axes>"
      ]
     },
     "metadata": {
      "needs_background": "light"
     },
     "output_type": "display_data"
    }
   ],
   "source": [
    "y_preds = ann.predict(xtest).ravel()\n",
    "\n",
    "fpr, tpr, thresholds = roc_curve(ytest, y_preds)\n",
    "plt.figure(1)\n",
    "plt.plot([0, 1], [0, 1], 'y--')\n",
    "plt.plot(fpr, tpr, marker='.')\n",
    "plt.xlabel('False positive rate')\n",
    "plt.ylabel('True positive rate')\n",
    "plt.title('ROC curve')\n",
    "plt.show()"
   ]
  }
 ],
 "metadata": {
  "kernelspec": {
   "display_name": "Python 3 (ipykernel)",
   "language": "python",
   "name": "python3"
  },
  "language_info": {
   "codemirror_mode": {
    "name": "ipython",
    "version": 3
   },
   "file_extension": ".py",
   "mimetype": "text/x-python",
   "name": "python",
   "nbconvert_exporter": "python",
   "pygments_lexer": "ipython3",
   "version": "3.9.7"
  }
 },
 "nbformat": 4,
 "nbformat_minor": 4
}
